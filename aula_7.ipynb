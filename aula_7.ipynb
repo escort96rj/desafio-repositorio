{
  "nbformat": 4,
  "nbformat_minor": 0,
  "metadata": {
    "colab": {
      "provenance": [],
      "mount_file_id": "16R55e2CQMu7XyGqrsSZXxVxtqmyaKmir",
      "authorship_tag": "ABX9TyOgfo2z8+aSbngU+OGL/8be",
      "include_colab_link": true
    },
    "kernelspec": {
      "name": "python3",
      "display_name": "Python 3"
    },
    "language_info": {
      "name": "python"
    }
  },
  "cells": [
    {
      "cell_type": "markdown",
      "metadata": {
        "id": "view-in-github",
        "colab_type": "text"
      },
      "source": [
        "<a href=\"https://colab.research.google.com/github/escort96rj/desafio-repositorio/blob/main/aula_7.ipynb\" target=\"_parent\"><img src=\"https://colab.research.google.com/assets/colab-badge.svg\" alt=\"Open In Colab\"/></a>"
      ]
    },
    {
      "cell_type": "code",
      "execution_count": 1,
      "metadata": {
        "id": "AUcnyy3vuEDH"
      },
      "outputs": [],
      "source": [
        "import random"
      ]
    },
    {
      "cell_type": "code",
      "source": [
        "escolha = random.choice([1,2,3])\n",
        "print(escolha)"
      ],
      "metadata": {
        "colab": {
          "base_uri": "https://localhost:8080/"
        },
        "id": "AYJBA_1XuLxu",
        "outputId": "adc2b64a-4f8d-42ba-d4b8-e168a2c37e63"
      },
      "execution_count": 2,
      "outputs": [
        {
          "output_type": "stream",
          "name": "stdout",
          "text": [
            "3\n"
          ]
        }
      ]
    },
    {
      "cell_type": "code",
      "source": [
        "numero_aleatorio = random.random() # entre (0,1)\n",
        "print(numero_aleatorio)"
      ],
      "metadata": {
        "colab": {
          "base_uri": "https://localhost:8080/"
        },
        "id": "wE3nO0sguLrv",
        "outputId": "3a120fd0-3d75-4750-9725-f833434909c7"
      },
      "execution_count": 3,
      "outputs": [
        {
          "output_type": "stream",
          "name": "stdout",
          "text": [
            "0.4774567883608096\n"
          ]
        }
      ]
    },
    {
      "cell_type": "code",
      "source": [],
      "metadata": {
        "id": "47VuGlOGuLj1"
      },
      "execution_count": null,
      "outputs": []
    },
    {
      "cell_type": "markdown",
      "source": [
        "Math"
      ],
      "metadata": {
        "id": "Fahnt5vru9Gx"
      }
    },
    {
      "cell_type": "code",
      "source": [
        "import math"
      ],
      "metadata": {
        "id": "DgK8TTTpu_-X"
      },
      "execution_count": 3,
      "outputs": []
    },
    {
      "cell_type": "code",
      "source": [
        "potencia = math.pow(10,3) #potencia de um numero\n",
        "print(potencia)"
      ],
      "metadata": {
        "colab": {
          "base_uri": "https://localhost:8080/"
        },
        "id": "jn_PDlejvCV6",
        "outputId": "29b8896f-f0e6-4d74-ed66-23cf9d57e74f"
      },
      "execution_count": 4,
      "outputs": [
        {
          "output_type": "stream",
          "name": "stdout",
          "text": [
            "1000.0\n"
          ]
        }
      ]
    },
    {
      "cell_type": "code",
      "source": [
        "num = math.ceil(10.1) #ceil arredondamento para cima de um numero\n",
        "print(num)"
      ],
      "metadata": {
        "colab": {
          "base_uri": "https://localhost:8080/"
        },
        "id": "fEQlD-DRvCTm",
        "outputId": "4e851d22-079b-41fc-bc96-e0efa9dd7cae"
      },
      "execution_count": 9,
      "outputs": [
        {
          "output_type": "stream",
          "name": "stdout",
          "text": [
            "11\n"
          ]
        }
      ]
    },
    {
      "cell_type": "markdown",
      "source": [
        "TIME"
      ],
      "metadata": {
        "id": "3fJTuSDrIBVJ"
      }
    },
    {
      "cell_type": "code",
      "source": [
        "from time import time"
      ],
      "metadata": {
        "id": "mKPtuWufvCQs"
      },
      "execution_count": 1,
      "outputs": []
    },
    {
      "cell_type": "code",
      "source": [
        "print(time())"
      ],
      "metadata": {
        "colab": {
          "base_uri": "https://localhost:8080/"
        },
        "id": "IxbZH7MgH-Nl",
        "outputId": "e900e111-4c13-4569-bcf1-2da9223f5600"
      },
      "execution_count": 5,
      "outputs": [
        {
          "output_type": "stream",
          "name": "stdout",
          "text": [
            "1682941457.551462\n"
          ]
        }
      ]
    },
    {
      "cell_type": "code",
      "source": [
        "from time import time, sleep"
      ],
      "metadata": {
        "id": "UIHslmHGITki"
      },
      "execution_count": 7,
      "outputs": []
    },
    {
      "cell_type": "code",
      "source": [
        "sleep(5)"
      ],
      "metadata": {
        "id": "cUfM5dWKH-L9"
      },
      "execution_count": 8,
      "outputs": []
    },
    {
      "cell_type": "markdown",
      "source": [],
      "metadata": {
        "id": "sQhJPEBHI4HP"
      }
    },
    {
      "cell_type": "markdown",
      "source": [
        "as"
      ],
      "metadata": {
        "id": "onxa-K1NI2PK"
      }
    },
    {
      "cell_type": "code",
      "source": [
        "#datetime"
      ],
      "metadata": {
        "id": "qW-ggu3YH-Hi"
      },
      "execution_count": null,
      "outputs": []
    },
    {
      "cell_type": "code",
      "source": [
        "from datetime import datetime as dt #datetime pacote, import é o modo dt as dt tambpem é o modo"
      ],
      "metadata": {
        "id": "ZAino31mI52j"
      },
      "execution_count": 9,
      "outputs": []
    },
    {
      "cell_type": "code",
      "source": [
        "print(dt.now())"
      ],
      "metadata": {
        "colab": {
          "base_uri": "https://localhost:8080/"
        },
        "id": "MVPUF8zAI5w5",
        "outputId": "2169b21d-771a-4d8b-b96a-44c3600e708a"
      },
      "execution_count": 10,
      "outputs": [
        {
          "output_type": "stream",
          "name": "stdout",
          "text": [
            "2023-05-01 11:50:04.962039\n"
          ]
        }
      ]
    },
    {
      "cell_type": "code",
      "source": [
        "print(dt.now().day)"
      ],
      "metadata": {
        "colab": {
          "base_uri": "https://localhost:8080/"
        },
        "id": "L4mF1WgzJHBL",
        "outputId": "c0140a3d-5498-4716-f372-9e3ebdc74759"
      },
      "execution_count": 11,
      "outputs": [
        {
          "output_type": "stream",
          "name": "stdout",
          "text": [
            "1\n"
          ]
        }
      ]
    },
    {
      "cell_type": "code",
      "source": [
        "print(dt.now().year)"
      ],
      "metadata": {
        "colab": {
          "base_uri": "https://localhost:8080/"
        },
        "id": "X_JFBdzTJG_h",
        "outputId": "62137eac-b630-4032-8a56-409e02a7643a"
      },
      "execution_count": 12,
      "outputs": [
        {
          "output_type": "stream",
          "name": "stdout",
          "text": [
            "2023\n"
          ]
        }
      ]
    },
    {
      "cell_type": "code",
      "source": [],
      "metadata": {
        "id": "4jiJgKnOJG-c"
      },
      "execution_count": null,
      "outputs": []
    },
    {
      "cell_type": "markdown",
      "source": [
        "aula 7.2"
      ],
      "metadata": {
        "id": "-jLF7-9mLmru"
      }
    },
    {
      "cell_type": "code",
      "source": [
        "#Classe de Aruivo CSV\n",
        "class ArquivoCSV(object):\n",
        "\n",
        "  def _init__(self, arquivo: str):\n",
        "    self.arquivo = arquivo\n",
        "    self.conteudo = self._extrair_conteudo()\n",
        "    self.colunas = self._extrair_nome_coluna()\n",
        "  def _extrair_conteudo(self):\n",
        "    conteudo = None\n",
        "    with open(file=self.arquivo, mode='r', encoding='utf8') as arquivo:\n",
        "      conteudo = arquivo.readlines()\n",
        "      return conteudo\n",
        "  def _extrair_nome_coluna(self):\n",
        "    return self.conteudo[0].strip().split(sep=',')\n",
        "\n",
        "  def _estrair_coluna(self, indice_coluna: str):\n",
        "    coluna = list()\n",
        "    for linha in self.conteudo:\n",
        "      conteudo_linha = linha.strip(). split(sep=',')\n",
        "      coluna.append(conteudo_linha[indice_coluna])\n",
        "      coluna.pop(0)\n",
        "      return coluna    \n"
      ],
      "metadata": {
        "id": "5N1TBSSZJG7R"
      },
      "execution_count": 13,
      "outputs": []
    },
    {
      "cell_type": "code",
      "source": [
        "%%writefile banco.csv"
      ],
      "metadata": {
        "colab": {
          "base_uri": "https://localhost:8080/"
        },
        "id": "eeIwgfsELqka",
        "outputId": "4dd0c35e-575e-4bff-f476-9cecc5f76536"
      },
      "execution_count": 15,
      "outputs": [
        {
          "output_type": "stream",
          "name": "stdout",
          "text": [
            "Overwriting banco.csv\n"
          ]
        }
      ]
    },
    {
      "cell_type": "code",
      "source": [],
      "metadata": {
        "id": "g6uUosaDdB47"
      },
      "execution_count": null,
      "outputs": []
    },
    {
      "cell_type": "code",
      "source": [],
      "metadata": {
        "id": "iTMYnUwedBpA"
      },
      "execution_count": null,
      "outputs": []
    },
    {
      "cell_type": "code",
      "source": [],
      "metadata": {
        "id": "nO7zcMkAdBmD"
      },
      "execution_count": null,
      "outputs": []
    }
  ]
}
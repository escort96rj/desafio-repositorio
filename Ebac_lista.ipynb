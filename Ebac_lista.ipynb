{
  "nbformat": 4,
  "nbformat_minor": 0,
  "metadata": {
    "colab": {
      "provenance": [],
      "authorship_tag": "ABX9TyN7XQCTENHrlnHu2rpgckgR",
      "include_colab_link": true
    },
    "kernelspec": {
      "name": "python3",
      "display_name": "Python 3"
    },
    "language_info": {
      "name": "python"
    }
  },
  "cells": [
    {
      "cell_type": "markdown",
      "metadata": {
        "id": "view-in-github",
        "colab_type": "text"
      },
      "source": [
        "<a href=\"https://colab.research.google.com/github/escort96rj/desafio-repositorio/blob/main/Ebac_lista.ipynb\" target=\"_parent\"><img src=\"https://colab.research.google.com/assets/colab-badge.svg\" alt=\"Open In Colab\"/></a>"
      ]
    },
    {
      "cell_type": "code",
      "execution_count": 109,
      "metadata": {
        "colab": {
          "base_uri": "https://localhost:8080/"
        },
        "id": "J03UDFaD5CzB",
        "outputId": "a56d0f96-eee5-470c-c7bd-8901db2f7eb5"
      },
      "outputs": [
        {
          "output_type": "stream",
          "name": "stdout",
          "text": [
            "['um_sonho_de_liberdade', 'o_poderoso_chefao', 'batman', 'poderoso_chefaoII', '12_homens_e_uma_sentenca', 'lista_de_shindler', 'senhor_dos_aneis', 'pulp_fiction', 'senhor_dos_aneis', '3_homens_conflito']\n"
          ]
        }
      ],
      "source": [
        "filmes= ['um_sonho_de_liberdade', 'o_poderoso_chefao', 'batman','poderoso_chefaoII', '12_homens_e_uma_sentenca','lista_de_shindler', 'senhor_dos_aneis', 'pulp_fiction', 'senhor_dos_aneis', '3_homens_conflito' ]\n",
        "print(filmes)"
      ]
    },
    {
      "cell_type": "code",
      "source": [
        "filmes=filmes.pop(0)\n",
        "print(filmes)\n"
      ],
      "metadata": {
        "colab": {
          "base_uri": "https://localhost:8080/"
        },
        "id": "IDoKJ_L262x5",
        "outputId": "e041b586-79dd-4902-92b8-927b266f211b"
      },
      "execution_count": 105,
      "outputs": [
        {
          "output_type": "stream",
          "name": "stdout",
          "text": [
            "um_sonho_de_liberdade\n"
          ]
        }
      ]
    },
    {
      "cell_type": "code",
      "source": [
        "filmes=filmes.pop(1)\n",
        "print(filmes)"
      ],
      "metadata": {
        "colab": {
          "base_uri": "https://localhost:8080/"
        },
        "id": "4UqJ-6n562vL",
        "outputId": "2f30a980-5026-48b8-fdbf-8a7786224889"
      },
      "execution_count": 108,
      "outputs": [
        {
          "output_type": "stream",
          "name": "stdout",
          "text": [
            "o_poderoso_chefao\n"
          ]
        }
      ]
    },
    {
      "cell_type": "code",
      "source": [
        "filmes.insert(3, 'um_sonho_de_liberdade')\n",
        "print(filmes)"
      ],
      "metadata": {
        "colab": {
          "base_uri": "https://localhost:8080/"
        },
        "id": "voxl3Jas62qh",
        "outputId": "d35c14cd-2c83-4959-8008-51c9baf5de40"
      },
      "execution_count": 110,
      "outputs": [
        {
          "output_type": "stream",
          "name": "stdout",
          "text": [
            "['um_sonho_de_liberdade', 'o_poderoso_chefao', 'batman', 'um_sonho_de_liberdade', 'poderoso_chefaoII', '12_homens_e_uma_sentenca', 'lista_de_shindler', 'senhor_dos_aneis', 'pulp_fiction', 'senhor_dos_aneis', '3_homens_conflito']\n"
          ]
        }
      ]
    },
    {
      "cell_type": "code",
      "source": [
        "#Exercício 2"
      ],
      "metadata": {
        "id": "qXoopFNU62j2"
      },
      "execution_count": null,
      "outputs": []
    },
    {
      "cell_type": "code",
      "source": [
        "filmes=['pulp_fiction', 'senhor_dos_aneis', '3_homens_conflito','pulp_fiction', 'senhor_dos_aneis', '3_homens_conflito']\n",
        "print(filmes)"
      ],
      "metadata": {
        "colab": {
          "base_uri": "https://localhost:8080/"
        },
        "id": "dGwKrRGNEbUe",
        "outputId": "4d1af1db-383c-461d-978b-519a60e9ae6f"
      },
      "execution_count": 111,
      "outputs": [
        {
          "output_type": "stream",
          "name": "stdout",
          "text": [
            "['pulp_fiction', 'senhor_dos_aneis', '3_homens_conflito', 'pulp_fiction', 'senhor_dos_aneis', '3_homens_conflito']\n"
          ]
        }
      ]
    },
    {
      "cell_type": "code",
      "source": [
        "filmes=set(['pulp_fiction', 'senhor_dos_aneis', '3_homens_conflito','pulp_fiction', 'senhor_dos_aneis', '3_homens_conflito'])\n",
        "print(filmes)"
      ],
      "metadata": {
        "colab": {
          "base_uri": "https://localhost:8080/"
        },
        "id": "iOHfjopkEbQ_",
        "outputId": "85412a9b-1ae6-4420-cb6d-6137252f5c6f"
      },
      "execution_count": 112,
      "outputs": [
        {
          "output_type": "stream",
          "name": "stdout",
          "text": [
            "{'3_homens_conflito', 'senhor_dos_aneis', 'pulp_fiction'}\n"
          ]
        }
      ]
    },
    {
      "cell_type": "code",
      "source": [
        "#Exercício 3"
      ],
      "metadata": {
        "id": "Vu2JEIpzEbNm"
      },
      "execution_count": null,
      "outputs": []
    },
    {
      "cell_type": "code",
      "source": [
        "filmes={\n",
        "    'filme_1' :{\n",
        "        'Nome'  : '<nome_do_filme> um_sonho_de_liberdade',\n",
        "        'Ano'   :  '<ano_do_filme> 1994',\n",
        "        'Sinopse' : { 'Dois homens presos se reúnem ao longo de vários anos, encontrando consolo e eventual redenção através de atos de decência comum.'\n",
        "\n",
        "    'filme_2' :{\n",
        "        'Nome'  : '<nome_do_filme> poderoso_chefao',\n",
        "        'Ano'   :  '<ano_do_filme> 1972',\n",
        "        'Sinopse': { 'O patriarca idoso de uma dinastia do crime organizado transfere o controle de seu império clandestino para seu filho relutante.'\n",
        "            \n",
        "     'filme_3' :{\n",
        "        'Nome'  : '<nome_do_filme> batman',\n",
        "        'Ano'   :  '<ano_do_filme> 2008',\n",
        "        'Sinopse': { 'Quando a ameaça conhecida como O Coringa surge de seu passado, causa estragos e caos nas pessoas de Gotham.'\n",
        "                     ' O Cavaleiro das Trevas deve aceitar um dos maiores testes para combater a injustiça.'\n",
        "\n",
        "     'filme_4' :{\n",
        "        'Nome'  : '<nome_do_filme> poderoso_chefao_II',\n",
        "        'Ano'   :  '<ano_do_filme> 1974',\n",
        "        'Sinopse': { 'Em 1950, Michael Corleone, agora à frente da família, tenta expandir o negócio do crime a Las Vegas, Los Angeles e Cuba.'\n",
        "                    ' Paralelamente, é revelada a história de Vito Corleone, e de como saiu da Sicília e chegou a Nova Iorque.'\n",
        "            \n",
        "      'filme_5' :{\n",
        "        'Nome'  : '<nome_do_filme> 12_homes_e_uma_sentença',\n",
        "        'Ano'   :  '<ano_do_filme> 1957',\n",
        "        'Sinopse':{ 'Um jurado que se aposenta tenta evitar um erro judicial forçando seus colegas a reconsiderarem as evidências.'\n",
        "            \n",
        "      'filme_6' :{\n",
        "        'Nome'  : '<nome_do_filme> A_lista_de_shindler',\n",
        "        'Ano'   :  '<ano_do_filme> 1994',\n",
        "        'Sinopse':{ 'Depois de testemunhar a perseguição dos judaicos na Polônia ocupada pelos alemães durante a Segunda Guerra Mundial,'\n",
        "                    'o industrial Oskar Schindler se começa a preocupar com sua força de trabalho judaica.'\n",
        "            \n",
        "       'filme_7' :{\n",
        "        'Nome'  : '<nome_do_filme> O_senhor_dos_aneis',\n",
        "        'Ano'   :  '<ano_do_filme> 2003',\n",
        "        'Sinopse': { 'Gandalf e Aragorn lideram o Mundo dos Homens contra o exército de Sauron para'\n",
        "                     'desviar o olhar de Frodo e Sam quando eles se aproximam á Montanha da Perdição com o Um Anel.'\n",
        "            \n",
        "       'filme_8' :{\n",
        "        'Nome'  : '<nome_do_filme> pulp_fiction',\n",
        "        'Ano'   :  '<ano_do_filme> 1994',\n",
        "        'Sinopse': {'As vidas de dois assassinos da máfia, um boxeador, um gângster e sua esposa,'\n",
        "                    ' e um par de bandidos se entrelaçam em quatro histórias de violência e redenção.'\n",
        "            \n",
        "       'filme_9' :{\n",
        "        'Nome'  : '<nome_do_filme>  O_senhor_dos_aneis',\n",
        "        'Ano'   :  '<ano_do_filme> 2001',\n",
        "        'Sinopse':{ 'Um manso hobbit do Condado e oito companheiros partem em uma jornada para destruir '\n",
        "                    'o poderoso Um Anel e salvar a Terra-média das Trevas.'\n",
        "            \n",
        "        'filme_10' :{\n",
        "        'Nome'  : '<nome_do_filme> três_homens_e _um_conflito',\n",
        "        'Ano'   :  '<ano_do_filme> 1996',\n",
        "        'Sinopse': { 'Um impostor se junta com dois homens para encontrar fortuna num remoto cemitério.'\n",
        "            \n",
        "\n",
        "\n",
        "                           }  \n",
        "                          }\n",
        "                         } \n",
        "                        }\n",
        "                       }           \n",
        "                      }\n",
        "                     }           \n",
        "                    }     \n",
        "                   }\n",
        "                  }\n",
        "                 } \n",
        "                }      \n",
        "               }\n",
        "\n",
        "              }       \n",
        "             }\n",
        "            }       \n",
        "           }  \n",
        "          }\n",
        "\n",
        "        }\n",
        "    }\n",
        "}\n",
        "    \n",
        "\n",
        "\n",
        "\n"
      ],
      "metadata": {
        "id": "6jAhmxNiEbMc"
      },
      "execution_count": null,
      "outputs": []
    },
    {
      "cell_type": "code",
      "source": [],
      "metadata": {
        "id": "yiBwSXBgEbLe"
      },
      "execution_count": null,
      "outputs": []
    },
    {
      "cell_type": "code",
      "source": [],
      "metadata": {
        "id": "6V-99LP362hT"
      },
      "execution_count": null,
      "outputs": []
    }
  ]
}
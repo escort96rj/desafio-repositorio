{
  "nbformat": 4,
  "nbformat_minor": 0,
  "metadata": {
    "colab": {
      "provenance": [],
      "authorship_tag": "ABX9TyOP1jpzfiXgfeW4qVobvGHN",
      "include_colab_link": true
    },
    "kernelspec": {
      "name": "python3",
      "display_name": "Python 3"
    },
    "language_info": {
      "name": "python"
    }
  },
  "cells": [
    {
      "cell_type": "markdown",
      "metadata": {
        "id": "view-in-github",
        "colab_type": "text"
      },
      "source": [
        "<a href=\"https://colab.research.google.com/github/escort96rj/desafio-repositorio/blob/main/Modulo3exec%C3%ADcio.ipynb\" target=\"_parent\"><img src=\"https://colab.research.google.com/assets/colab-badge.svg\" alt=\"Open In Colab\"/></a>"
      ]
    },
    {
      "cell_type": "code",
      "execution_count": 9,
      "metadata": {
        "id": "l2t5D827isYj"
      },
      "outputs": [],
      "source": [
        "propaganda_online = [\n",
        "  {'tempo_gasto_site': 68.95, 'idade': 35, 'renda_area': 61833.90, 'tempo_gasto_internet': 256.09, 'cidade': 'Wrightburgh', 'pais': 'Tunisia', 'clicou_no_ad': 0},\n",
        "  {'tempo_gasto_site': 80.23, 'idade': 31, 'renda_area': 68441.85, 'tempo_gasto_internet': 193.77, 'cidade': 'West Jodi', 'pais': 'Nauru', 'clicou_no_ad': 0},\n",
        "  {'tempo_gasto_site': 69.47, 'idade': 26, 'renda_area': 59785.94, 'tempo_gasto_internet': 236.50, 'cidade': 'Davidton', 'pais': 'San Marino', 'clicou_no_ad': 0},\n",
        "  {'tempo_gasto_site': 68.37, 'idade': 35, 'renda_area': 73889.99, 'tempo_gasto_internet': 225.58, 'cidade': 'South Manuel', 'pais': 'Iceland', 'clicou_no_ad': 0},\n",
        "  {'tempo_gasto_site': 88.91, 'idade': 33, 'renda_area': 53852.85, 'tempo_gasto_internet': 208.36, 'cidade': 'Brandonstad', 'pais': 'Myanmar', 'clicou_no_ad': 0},\n",
        "  {'tempo_gasto_site': None, 'idade': 48, 'renda_area': 24593.33, 'tempo_gasto_internet': 131.76, 'cidade': 'Port Jefferybury', 'pais': 'Australia', 'clicou_no_ad': 1},\n",
        "  {'tempo_gasto_site': 74.53, 'idade': 30, 'renda_area': 68862.00, 'tempo_gasto_internet': 221.51, 'cidade': 'West Colin', 'pais': 'Grenada'},\n",
        "  {'tempo_gasto_site': 69.88, 'idade': 20, 'renda_area': 55642.32, 'tempo_gasto_internet': 183.82, 'cidade': 'Ramirezton', 'pais': 'Ghana', 'clicou_no_ad': 0}\n",
        "]"
      ]
    },
    {
      "cell_type": "code",
      "source": [
        "for dado_de_usuario in propaganda_online:\n",
        "  print(dado_de_usuario)"
      ],
      "metadata": {
        "colab": {
          "base_uri": "https://localhost:8080/"
        },
        "id": "90fDo5szjbBH",
        "outputId": "c0ac3086-b3c5-43ea-9ab5-cc1b6285d41f"
      },
      "execution_count": 10,
      "outputs": [
        {
          "output_type": "stream",
          "name": "stdout",
          "text": [
            "{'tempo_gasto_site': 68.95, 'idade': 35, 'renda_area': 61833.9, 'tempo_gasto_internet': 256.09, 'cidade': 'Wrightburgh', 'pais': 'Tunisia', 'clicou_no_ad': 0}\n",
            "{'tempo_gasto_site': 80.23, 'idade': 31, 'renda_area': 68441.85, 'tempo_gasto_internet': 193.77, 'cidade': 'West Jodi', 'pais': 'Nauru', 'clicou_no_ad': 0}\n",
            "{'tempo_gasto_site': 69.47, 'idade': 26, 'renda_area': 59785.94, 'tempo_gasto_internet': 236.5, 'cidade': 'Davidton', 'pais': 'San Marino', 'clicou_no_ad': 0}\n",
            "{'tempo_gasto_site': 68.37, 'idade': 35, 'renda_area': 73889.99, 'tempo_gasto_internet': 225.58, 'cidade': 'South Manuel', 'pais': 'Iceland', 'clicou_no_ad': 0}\n",
            "{'tempo_gasto_site': 88.91, 'idade': 33, 'renda_area': 53852.85, 'tempo_gasto_internet': 208.36, 'cidade': 'Brandonstad', 'pais': 'Myanmar', 'clicou_no_ad': 0}\n",
            "{'tempo_gasto_site': None, 'idade': 48, 'renda_area': 24593.33, 'tempo_gasto_internet': 131.76, 'cidade': 'Port Jefferybury', 'pais': 'Australia', 'clicou_no_ad': 1}\n",
            "{'tempo_gasto_site': 74.53, 'idade': 30, 'renda_area': 68862.0, 'tempo_gasto_internet': 221.51, 'cidade': 'West Colin', 'pais': 'Grenada'}\n",
            "{'tempo_gasto_site': 69.88, 'idade': 20, 'renda_area': 55642.32, 'tempo_gasto_internet': 183.82, 'cidade': 'Ramirezton', 'pais': 'Ghana', 'clicou_no_ad': 0}\n"
          ]
        }
      ]
    },
    {
      "cell_type": "code",
      "source": [
        "paises = ['Tunisia', 'Nauru', 'Iceland', 'Myamar', 'Australia', 'Grenada', ]\n",
        "idade = 30\n",
        "for dado_de_usuario in propaganda_online:\n",
        " if idade >= 30: \n",
        "   print(paises)\n"
      ],
      "metadata": {
        "colab": {
          "base_uri": "https://localhost:8080/"
        },
        "id": "NeYWRuCtjntM",
        "outputId": "b1728a65-7fea-4070-99e1-c26a8cd8ea9d"
      },
      "execution_count": 20,
      "outputs": [
        {
          "output_type": "stream",
          "name": "stdout",
          "text": [
            "['Tunisia', 'Nauru', 'Iceland', 'Myamar', 'Australia', 'Grenada']\n",
            "['Tunisia', 'Nauru', 'Iceland', 'Myamar', 'Australia', 'Grenada']\n",
            "['Tunisia', 'Nauru', 'Iceland', 'Myamar', 'Australia', 'Grenada']\n",
            "['Tunisia', 'Nauru', 'Iceland', 'Myamar', 'Australia', 'Grenada']\n",
            "['Tunisia', 'Nauru', 'Iceland', 'Myamar', 'Australia', 'Grenada']\n",
            "['Tunisia', 'Nauru', 'Iceland', 'Myamar', 'Australia', 'Grenada']\n",
            "['Tunisia', 'Nauru', 'Iceland', 'Myamar', 'Australia', 'Grenada']\n",
            "['Tunisia', 'Nauru', 'Iceland', 'Myamar', 'Australia', 'Grenada']\n"
          ]
        }
      ]
    },
    {
      "cell_type": "code",
      "source": [
        "leads = ['61833.9', '68441.85', '59785.94', '73889.99', '53852.85', '24593.33', '68862.00', '55642.32' ]\n",
        "\n",
        "for dado_de_usuario in propaganda_online:\n",
        "  \n",
        "  print(leads)"
      ],
      "metadata": {
        "colab": {
          "base_uri": "https://localhost:8080/"
        },
        "id": "5nXqpT5InaY9",
        "outputId": "3195a636-0f5c-4e38-d51a-b5bd50fbb164"
      },
      "execution_count": 21,
      "outputs": [
        {
          "output_type": "stream",
          "name": "stdout",
          "text": [
            "['61833.9', '68441.85', '59785.94', '73889.99', '53852.85', '24593.33', '68862.00', '55642.32']\n",
            "['61833.9', '68441.85', '59785.94', '73889.99', '53852.85', '24593.33', '68862.00', '55642.32']\n",
            "['61833.9', '68441.85', '59785.94', '73889.99', '53852.85', '24593.33', '68862.00', '55642.32']\n",
            "['61833.9', '68441.85', '59785.94', '73889.99', '53852.85', '24593.33', '68862.00', '55642.32']\n",
            "['61833.9', '68441.85', '59785.94', '73889.99', '53852.85', '24593.33', '68862.00', '55642.32']\n",
            "['61833.9', '68441.85', '59785.94', '73889.99', '53852.85', '24593.33', '68862.00', '55642.32']\n",
            "['61833.9', '68441.85', '59785.94', '73889.99', '53852.85', '24593.33', '68862.00', '55642.32']\n",
            "['61833.9', '68441.85', '59785.94', '73889.99', '53852.85', '24593.33', '68862.00', '55642.32']\n"
          ]
        }
      ]
    },
    {
      "cell_type": "code",
      "source": [
        "cidade = [ 'West Jodi', 'Brandonstad', 'West Colin']\n",
        "for dado_de_usuario in propaganda_online:\n",
        "   \n",
        "    \n",
        "     print(cidade)"
      ],
      "metadata": {
        "colab": {
          "base_uri": "https://localhost:8080/"
        },
        "id": "IkGNlIe3poRi",
        "outputId": "59828218-2a75-4e3f-dbb7-09687bf26167"
      },
      "execution_count": 27,
      "outputs": [
        {
          "output_type": "stream",
          "name": "stdout",
          "text": [
            "['West Jodi', 'Brandonstad', 'West Colin']\n",
            "['West Jodi', 'Brandonstad', 'West Colin']\n",
            "['West Jodi', 'Brandonstad', 'West Colin']\n",
            "['West Jodi', 'Brandonstad', 'West Colin']\n",
            "['West Jodi', 'Brandonstad', 'West Colin']\n",
            "['West Jodi', 'Brandonstad', 'West Colin']\n",
            "['West Jodi', 'Brandonstad', 'West Colin']\n",
            "['West Jodi', 'Brandonstad', 'West Colin']\n"
          ]
        }
      ]
    }
  ]
}